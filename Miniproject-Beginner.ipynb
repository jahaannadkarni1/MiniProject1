{
 "cells": [
  {
   "cell_type": "markdown",
   "metadata": {},
   "source": [
    "### Mad Lib Game"
   ]
  },
  {
   "cell_type": "code",
   "execution_count": null,
   "metadata": {},
   "outputs": [],
   "source": [
    "inp1 = input('Enter a color: ')\n",
    "inp2 = input('Enter a car: ')\n",
    "inp3 = input('Enter a location: ')\n",
    "inp4 = input('Enter a career: ')\n",
    "inp5 = input('Enter a house type: ')\n",
    "inp6 = input('Enter a WN: ')\n",
    "\n",
    "print(f'Jahaan is going to M {inp6}, and they will be living in a {inp5}.'\n",
    "      f'He is having an excellent job working as {inp4}, in {inp3}.'\n",
    "     f' He recently bought a {inp1} {inp2}.')"
   ]
  },
  {
   "cell_type": "markdown",
   "metadata": {},
   "source": [
    "### Number Guessing"
   ]
  },
  {
   "cell_type": "code",
   "execution_count": null,
   "metadata": {},
   "outputs": [],
   "source": [
    "import random\n",
    "\n",
    "\n",
    "guess = False\n",
    "\n",
    "guess_number = random.randint(1,20)\n",
    "while not guess:\n",
    "    \n",
    "    inp = int(input('Guess the Number: '))\n",
    "    if inp != guess_number:\n",
    "        if inp > guess_number:\n",
    "            print(f'The number is lesser than {inp}')\n",
    "        else:\n",
    "            print(f'The number is greater than {inp}')\n",
    "        continue\n",
    "    else:\n",
    "        print(f\"You're right. The number is {inp}\")\n",
    "        break\n",
    "    "
   ]
  },
  {
   "cell_type": "markdown",
   "metadata": {},
   "source": [
    "### Dice Rolling Simulator"
   ]
  },
  {
   "cell_type": "code",
   "execution_count": 4,
   "metadata": {},
   "outputs": [],
   "source": [
    "import random\n",
    "class DiceRoller:\n",
    "    \n",
    "    def roll(self):\n",
    "        print((random.randint(1,6),random.randint(1,6)))"
   ]
  },
  {
   "cell_type": "code",
   "execution_count": 5,
   "metadata": {},
   "outputs": [],
   "source": [
    "diceroll = DiceRoller()"
   ]
  },
  {
   "cell_type": "code",
   "execution_count": 7,
   "metadata": {},
   "outputs": [
    {
     "name": "stdout",
     "output_type": "stream",
     "text": [
      "(6, 6)\n"
     ]
    }
   ],
   "source": [
    "diceroll.roll()"
   ]
  },
  {
   "cell_type": "markdown",
   "metadata": {},
   "source": [
    "### find PI to the Nth digit"
   ]
  },
  {
   "cell_type": "code",
   "execution_count": null,
   "metadata": {},
   "outputs": [],
   "source": [
    "value = 22/7\n"
   ]
  },
  {
   "cell_type": "code",
   "execution_count": 10,
   "metadata": {},
   "outputs": [
    {
     "data": {
      "text/plain": [
       "3.142857142857143"
      ]
     },
     "execution_count": 10,
     "metadata": {},
     "output_type": "execute_result"
    }
   ],
   "source": [
    "round(value,100)"
   ]
  },
  {
   "cell_type": "code",
   "execution_count": null,
   "metadata": {},
   "outputs": [],
   "source": []
  },
  {
   "cell_type": "code",
   "execution_count": null,
   "metadata": {},
   "outputs": [],
   "source": []
  }
 ],
 "metadata": {
  "kernelspec": {
   "display_name": "Python 3",
   "language": "python",
   "name": "python3"
  },
  "language_info": {
   "codemirror_mode": {
    "name": "ipython",
    "version": 3
   },
   "file_extension": ".py",
   "mimetype": "text/x-python",
   "name": "python",
   "nbconvert_exporter": "python",
   "pygments_lexer": "ipython3",
   "version": "3.8.3"
  }
 },
 "nbformat": 4,
 "nbformat_minor": 2
}

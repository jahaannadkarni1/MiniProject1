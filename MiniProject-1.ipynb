{
 "cells": [
  {
   "cell_type": "markdown",
   "metadata": {},
   "source": [
    "### Factorial"
   ]
  },
  {
   "cell_type": "code",
   "execution_count": 2,
   "metadata": {},
   "outputs": [],
   "source": [
    "def factorial(n):\n",
    "    return 1 if (n==1 or n==0) else n * factorial(n-1)"
   ]
  },
  {
   "cell_type": "code",
   "execution_count": 9,
   "metadata": {},
   "outputs": [],
   "source": [
    "def facto(a):\n",
    "    pro=1\n",
    "    if a<0:\n",
    "        return 'Input Positive Number'\n",
    "    else:\n",
    "        if a==1 or a==0:\n",
    "            return 1\n",
    "        else:\n",
    "            for i in range(2,a+1):\n",
    "                pro *=i\n",
    "            return pro\n",
    "    "
   ]
  },
  {
   "cell_type": "code",
   "execution_count": 16,
   "metadata": {
    "scrolled": true
   },
   "outputs": [
    {
     "data": {
      "text/plain": [
       "93326215443944152681699238856266700490715968264381621468592963895217599993229915608941463976156518286253697920827223758251185210916864000000000000000000000000"
      ]
     },
     "execution_count": 16,
     "metadata": {},
     "output_type": "execute_result"
    }
   ],
   "source": [
    "facto(100)"
   ]
  },
  {
   "cell_type": "markdown",
   "metadata": {},
   "source": [
    "### Simple Interest"
   ]
  },
  {
   "cell_type": "code",
   "execution_count": 21,
   "metadata": {},
   "outputs": [],
   "source": [
    "def simple_interest():\n",
    "    \n",
    "    principal = int(input('Input Principal Amount: '))\n",
    "    time = int(input('Input Time to invest: '))\n",
    "    rate = int(input('Input Rate/annum: '))\n",
    "    si = (principal*time*rate)/100\n",
    "    \n",
    "    return si\n",
    "    "
   ]
  },
  {
   "cell_type": "code",
   "execution_count": 22,
   "metadata": {},
   "outputs": [
    {
     "name": "stdout",
     "output_type": "stream",
     "text": [
      "Input Principal Amount: 10000\n",
      "Input Time to invest: 5\n",
      "Input Rate/annum: 5\n"
     ]
    },
    {
     "data": {
      "text/plain": [
       "2500.0"
      ]
     },
     "execution_count": 22,
     "metadata": {},
     "output_type": "execute_result"
    }
   ],
   "source": [
    "simple_interest()"
   ]
  },
  {
   "cell_type": "code",
   "execution_count": 70,
   "metadata": {},
   "outputs": [],
   "source": [
    "def compound_interest():\n",
    "    \n",
    "    p = float(input('Input Principle: '))\n",
    "    r = float(input('Input Interest Rate: '))\n",
    "    t = float(input('Input Time: '))\n",
    "    n = float(input('Input Number of times Interest applied per time period: '))\n",
    "    \n",
    "    r = r/100\n",
    "    power = n*t\n",
    "    \n",
    "    a = p*(1+ r/n)**(n*t)\n",
    "    \n",
    "    i = a-p\n",
    "    \n",
    "    return  f'Amount: {a}, Interest: {i}'\n",
    "    \n",
    "    "
   ]
  },
  {
   "cell_type": "code",
   "execution_count": 71,
   "metadata": {},
   "outputs": [
    {
     "name": "stdout",
     "output_type": "stream",
     "text": [
      "Input Principle: 5000\n",
      "Input Interest Rate: 5\n",
      "Input Time: 10\n",
      "Input Number of times Interest applied per time period: 12\n"
     ]
    },
    {
     "data": {
      "text/plain": [
       "'Amount: 8235.0474884514, Interest: 3235.0474884514006'"
      ]
     },
     "execution_count": 71,
     "metadata": {},
     "output_type": "execute_result"
    }
   ],
   "source": [
    "compound_interest()"
   ]
  },
  {
   "cell_type": "markdown",
   "metadata": {},
   "source": [
    "### Armstrong Number"
   ]
  },
  {
   "cell_type": "code",
   "execution_count": 119,
   "metadata": {},
   "outputs": [],
   "source": [
    "def arm_no():\n",
    "    \n",
    "    n = input('Input a number')\n",
    "    l = len(n)\n",
    "    n = int(n)\n",
    "    sum1 = 0\n",
    "    if n<0:\n",
    "        return 'Input Positive Integer'\n",
    "    else:\n",
    "        n = str(n)\n",
    "        for i in n:\n",
    "            i = int(i)\n",
    "            sum1 += i**l\n",
    "        return sum1 == int(n)\n",
    "            "
   ]
  },
  {
   "cell_type": "markdown",
   "metadata": {},
   "source": [
    "### Area of circle"
   ]
  },
  {
   "cell_type": "code",
   "execution_count": 132,
   "metadata": {},
   "outputs": [],
   "source": [
    "def area_circle():\n",
    "    \n",
    "    radius = int(input('Input Radius: '))\n",
    "    pi = 3.142\n",
    "    a = pi*radius**2\n",
    "    return a"
   ]
  },
  {
   "cell_type": "code",
   "execution_count": 133,
   "metadata": {},
   "outputs": [
    {
     "name": "stdout",
     "output_type": "stream",
     "text": [
      "Input Radius: 5\n"
     ]
    },
    {
     "data": {
      "text/plain": [
       "78.55"
      ]
     },
     "execution_count": 133,
     "metadata": {},
     "output_type": "execute_result"
    }
   ],
   "source": [
    "area_circle()"
   ]
  },
  {
   "cell_type": "markdown",
   "metadata": {},
   "source": [
    "### Print Primes in Interval(help for 0,1,2)"
   ]
  },
  {
   "cell_type": "code",
   "execution_count": 164,
   "metadata": {},
   "outputs": [],
   "source": [
    "def primes(a,b):\n",
    "    \n",
    "    for val in range(a, b + 1): \n",
    "        if val > 1: \n",
    "            for n in range(2, val//2 + 2): \n",
    "                if (val % n) == 0: \n",
    "                    break\n",
    "                else: \n",
    "                    if n == val//2 + 1: \n",
    "                        print(val) "
   ]
  },
  {
   "cell_type": "code",
   "execution_count": 182,
   "metadata": {},
   "outputs": [
    {
     "name": "stdout",
     "output_type": "stream",
     "text": [
      "0\n",
      "1\n",
      "2\n",
      "3\n",
      "5\n"
     ]
    }
   ],
   "source": [
    "primes(0,5)"
   ]
  },
  {
   "cell_type": "code",
   "execution_count": 179,
   "metadata": {},
   "outputs": [],
   "source": [
    "def primes(a,b):\n",
    "    \n",
    "    for num in range(a,b+1):\n",
    "        prime = True\n",
    "        for i in range(2,num):\n",
    "            if (num%i==0):\n",
    "                prime = False\n",
    "        if prime:\n",
    "            print(num)"
   ]
  },
  {
   "cell_type": "code",
   "execution_count": 202,
   "metadata": {},
   "outputs": [],
   "source": [
    "def is_prime(n):\n",
    "    \n",
    "    if n>1:\n",
    "        if n%2 ==0:\n",
    "            return 'Not Prime'\n",
    "        else:\n",
    "            for i in range(2,n):\n",
    "                n%i == 0\n",
    "                return f'{n} not prime'\n",
    "            else:\n",
    "                return f'{n} prime'\n",
    "    else:\n",
    "        return f'{n} not prime'\n",
    "                \n"
   ]
  },
  {
   "cell_type": "code",
   "execution_count": 203,
   "metadata": {},
   "outputs": [
    {
     "data": {
      "text/plain": [
       "'27 not prime'"
      ]
     },
     "execution_count": 203,
     "metadata": {},
     "output_type": "execute_result"
    }
   ],
   "source": [
    "is_prime(29)"
   ]
  },
  {
   "cell_type": "code",
   "execution_count": null,
   "metadata": {},
   "outputs": [],
   "source": []
  }
 ],
 "metadata": {
  "kernelspec": {
   "display_name": "Python 3",
   "language": "python",
   "name": "python3"
  },
  "language_info": {
   "codemirror_mode": {
    "name": "ipython",
    "version": 3
   },
   "file_extension": ".py",
   "mimetype": "text/x-python",
   "name": "python",
   "nbconvert_exporter": "python",
   "pygments_lexer": "ipython3",
   "version": "3.8.3"
  }
 },
 "nbformat": 4,
 "nbformat_minor": 4
}
